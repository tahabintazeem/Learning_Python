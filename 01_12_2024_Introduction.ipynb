{
  "nbformat": 4,
  "nbformat_minor": 0,
  "metadata": {
    "colab": {
      "provenance": [],
      "authorship_tag": "ABX9TyNeGWkDNaVPhaHFL1qjASr6",
      "include_colab_link": true
    },
    "kernelspec": {
      "name": "python3",
      "display_name": "Python 3"
    },
    "language_info": {
      "name": "python"
    }
  },
  "cells": [
    {
      "cell_type": "markdown",
      "metadata": {
        "id": "view-in-github",
        "colab_type": "text"
      },
      "source": [
        "<a href=\"https://colab.research.google.com/github/tahabintazeem/Learning_Python/blob/main/01_12_2024_Introduction.ipynb\" target=\"_parent\"><img src=\"https://colab.research.google.com/assets/colab-badge.svg\" alt=\"Open In Colab\"/></a>"
      ]
    },
    {
      "cell_type": "markdown",
      "source": [
        "**Variable and Print**"
      ],
      "metadata": {
        "id": "0fgdcObk_Vwy"
      }
    },
    {
      "cell_type": "code",
      "source": [
        "print(\"Hello, world!\")      # Simple Python Program"
      ],
      "metadata": {
        "colab": {
          "base_uri": "https://localhost:8080/"
        },
        "id": "LZA57Ryf_MOn",
        "outputId": "10bb1d3f-e7bc-456a-a3e2-b3759f02bc67"
      },
      "execution_count": 9,
      "outputs": [
        {
          "output_type": "stream",
          "name": "stdout",
          "text": [
            "Hello, world!\n"
          ]
        }
      ]
    },
    {
      "cell_type": "code",
      "execution_count": 8,
      "metadata": {
        "colab": {
          "base_uri": "https://localhost:8080/"
        },
        "id": "TSMQRMUM8zFQ",
        "outputId": "70575e8d-1ff4-409d-84f7-7c7144d14f3d"
      },
      "outputs": [
        {
          "output_type": "stream",
          "name": "stdout",
          "text": [
            "<class 'int'>\n",
            "<class 'str'>\n",
            "<class 'bool'>\n",
            "<class 'float'>\n"
          ]
        }
      ],
      "source": [
        "# Initialize Python Variables\n",
        "a = 15\n",
        "b = \"Welcome! 55 \"\n",
        "c = True\n",
        "d = 5.5\n",
        "\n",
        "# Print data stored in variable\n",
        "print(a)\n",
        "print(b)\n",
        "print(c)\n",
        "print(d)\n",
        "\n",
        "# Print 'type' of the data stored in the variable\n",
        "print(type(a))\n",
        "print(type(b))\n",
        "print(type(c))\n",
        "print(type(d))"
      ]
    },
    {
      "cell_type": "markdown",
      "source": [
        "**Equivalent Java Syntax**"
      ],
      "metadata": {
        "id": "g_ss3mGl_a2V"
      }
    },
    {
      "cell_type": "code",
      "source": [
        "\n",
        "int a = 15;\n",
        "String b = \"Welcome! 55 \";\n",
        "bool c = True;\n",
        "\n",
        "System.out.println(a);\n",
        "System.out.println(b);"
      ],
      "metadata": {
        "id": "0hKZT2LI-oTk"
      },
      "execution_count": null,
      "outputs": []
    },
    {
      "cell_type": "markdown",
      "source": [
        "**Take User Input**"
      ],
      "metadata": {
        "id": "qqUBTQ5_9H7v"
      }
    },
    {
      "cell_type": "code",
      "source": [
        "user = input(\"Enter your username: \")\n",
        "\n",
        "print(\"Welcome \" + user)    # concatenation\n",
        "\n",
        "print(\"Welcome\", user)\n",
        "\n",
        "print(\"Welcome\", \"to\" , user, 100, \"times!\")\n",
        "\n",
        "\n"
      ],
      "metadata": {
        "colab": {
          "base_uri": "https://localhost:8080/"
        },
        "id": "wJ21myAc_eKT",
        "outputId": "1a31bf73-63f7-4d9d-f03f-20a4ca01136b"
      },
      "execution_count": 17,
      "outputs": [
        {
          "output_type": "stream",
          "name": "stdout",
          "text": [
            "Enter your username: Thaa\n",
            "Welcome Thaa\n",
            "Welcome Thaa\n",
            "Welcome to Thaa 100 times!\n"
          ]
        }
      ]
    },
    {
      "cell_type": "code",
      "source": [
        "print(user)"
      ],
      "metadata": {
        "colab": {
          "base_uri": "https://localhost:8080/"
        },
        "id": "ykCVg0uS_-WG",
        "outputId": "d91bcd60-3bee-4eb3-8791-9fb979e467fb"
      },
      "execution_count": 12,
      "outputs": [
        {
          "output_type": "stream",
          "name": "stdout",
          "text": [
            "taha\n"
          ]
        }
      ]
    },
    {
      "cell_type": "markdown",
      "source": [
        "**Type Conversion**"
      ],
      "metadata": {
        "id": "BOOiEYbBBLJF"
      }
    },
    {
      "cell_type": "code",
      "source": [
        "# Implicit Conversion\n",
        "\n",
        "integer_a = 99\n",
        "integer_b = 1\n",
        "\n",
        "sum = integer_a + integer_b\n",
        "\n",
        "float_a = 50.1\n",
        "\n",
        "sum2 = float_a + integer_a\n",
        "\n",
        "print(sum)\n",
        "print(type(sum))\n",
        "\n",
        "print(sum2)\n",
        "\n",
        "\n",
        "# Explicit Conversion\n",
        "\n",
        "string_a = \"80\"\n",
        "\n",
        "sum3 = string_a + str(integer_a)\n",
        "\n",
        "# Overwriting\n",
        "\n",
        "sum3 = int(string_a) + integer_a\n",
        "\n",
        "print(sum3)\n",
        "\n",
        "\n"
      ],
      "metadata": {
        "colab": {
          "base_uri": "https://localhost:8080/"
        },
        "id": "33-LYFjpBNyD",
        "outputId": "5cd0fefb-e584-4f44-f941-7c1dedcf4b38"
      },
      "execution_count": 29,
      "outputs": [
        {
          "output_type": "stream",
          "name": "stdout",
          "text": [
            "100\n",
            "<class 'int'>\n",
            "149.1\n",
            "179\n"
          ]
        }
      ]
    },
    {
      "cell_type": "markdown",
      "source": [
        "**Practice Questions**"
      ],
      "metadata": {
        "id": "EVdaAqqKLZnt"
      }
    },
    {
      "cell_type": "code",
      "source": [
        "# 1. Create two variables, `name` and `age`, to store a person's name and age.\n",
        "# Print a sentence like \"My name is [name] and I am [age] years old.\" using these variables.\n",
        "\n",
        "\n",
        "\n",
        "\n",
        "# 2. Ask the user for their favorite number and store it in a variable.\n",
        "# Then, double the number and print a message showing the result. (Hint: Remember to convert the input to the correct data type if needed.)\n",
        "\n",
        "\n",
        "\n",
        "\n",
        "\n",
        "# 3. Create a variable `x` and assign it a number.\n",
        "# Then create another variable `y` and assign it a string version of `x`.\n",
        "# Print both variables and their types using the `type()` function.\n",
        "\n",
        "\n",
        "\n",
        "\n",
        "\n",
        "# 4. Ask the user to enter their first and last name separately.\n",
        "# Then, combine these two inputs to create a full name and print it with a greeting, like \"Hello, [Full Name]!\".\n",
        "\n",
        "\n",
        "\n",
        "\n",
        "\n",
        "# 5. Assign a number to a variable and then overwrite the variable with a string.\n",
        "# Print the variable's value and type before and after overwriting to observe the change.\n"
      ],
      "metadata": {
        "id": "LN5iepkpLdnp"
      },
      "execution_count": null,
      "outputs": []
    }
  ]
}