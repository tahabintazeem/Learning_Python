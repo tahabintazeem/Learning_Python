{
  "nbformat": 4,
  "nbformat_minor": 0,
  "metadata": {
    "colab": {
      "provenance": [],
      "authorship_tag": "ABX9TyM71OzCTWrc2l0F9nmIxePc",
      "include_colab_link": true
    },
    "kernelspec": {
      "name": "python3",
      "display_name": "Python 3"
    },
    "language_info": {
      "name": "python"
    }
  },
  "cells": [
    {
      "cell_type": "markdown",
      "metadata": {
        "id": "view-in-github",
        "colab_type": "text"
      },
      "source": [
        "<a href=\"https://colab.research.google.com/github/tahabintazeem/Learning_Python/blob/main/Control_Structures.ipynb\" target=\"_parent\"><img src=\"https://colab.research.google.com/assets/colab-badge.svg\" alt=\"Open In Colab\"/></a>"
      ]
    },
    {
      "cell_type": "markdown",
      "source": [
        "**Naming Conventions**"
      ],
      "metadata": {
        "id": "YPRQEJRGLODo"
      }
    },
    {
      "cell_type": "code",
      "execution_count": 4,
      "metadata": {
        "id": "Pb7Nc9xvIM0x"
      },
      "outputs": [],
      "source": [
        "# First Name\n",
        "\n",
        "first_name = \"Taha\"\n",
        "\n",
        "firstName = \"Taha\"\n",
        "\n",
        "FirstName = \"s\"\n",
        "\n",
        "# This is a comment\n",
        "\n"
      ]
    },
    {
      "cell_type": "markdown",
      "source": [
        "**Operators**"
      ],
      "metadata": {
        "id": "49FKmIyfLSy_"
      }
    },
    {
      "cell_type": "code",
      "source": [
        "# Artihmetic Operators\n",
        "\n",
        "# +\n",
        "# -\n",
        "# *\n",
        "# /      Float Division\n",
        "# //     Integer Division\n",
        "\n",
        "print(4 / 2)\n",
        "\n",
        "print(4 // 2)\n",
        "\n",
        "# **     Exponent\n",
        "\n",
        "print(2**4)\n",
        "\n",
        "\n",
        "a = 2e12\n",
        "\n",
        "print(a)\n",
        "\n",
        "# Logical Operators\n",
        "\n",
        "# and\n",
        "# or\n",
        "# not\n",
        "\n",
        "x = True\n",
        "y = True\n",
        "z = False\n",
        "\n",
        "print(x and y)\n",
        "\n",
        "print(x or y)\n",
        "\n",
        "print(not x)\n",
        "\n",
        "print(not z and x or y)\n",
        "\n",
        "# not z\n",
        "# z and x\n",
        "# x or y\n",
        "\n",
        "# Precedence\n",
        "\n",
        "# PEMDAS (Paranthesis) Exponent** Multiplication* Division/ Addition+ Subtraction-\n",
        "\n",
        "print(2 + 3 * 5)  # Should answer 17\n",
        "\n",
        "print((2 + 3) * 5)   # should answer 25\n",
        "\n",
        "\n",
        "# Comparison\n",
        "\n",
        "# = Assignment Operator\n",
        "\n",
        "# > Greater than\n",
        "# < Less than\n",
        "# == Equality\n",
        "\n",
        "# >= Greater than or equal to\n",
        "# <= Less than or equal to\n",
        "# != Not equal to\n",
        "\n",
        "# var_name = value     initialization\n",
        "# var_name;            declaration\n",
        "\n",
        "x = 1\n",
        "y = 5\n",
        "\n",
        "\n",
        "x != y\n",
        "x == y\n",
        "\n",
        "\n"
      ],
      "metadata": {
        "colab": {
          "base_uri": "https://localhost:8080/"
        },
        "id": "ajccL066LSbv",
        "outputId": "18176a95-5630-4014-e8d7-7d8db6bfc075"
      },
      "execution_count": 24,
      "outputs": [
        {
          "output_type": "stream",
          "name": "stdout",
          "text": [
            "2.0\n",
            "2\n",
            "16\n",
            "2000000000000.0\n",
            "True\n",
            "True\n",
            "False\n",
            "True\n",
            "17\n",
            "25\n"
          ]
        },
        {
          "output_type": "execute_result",
          "data": {
            "text/plain": [
              "False"
            ]
          },
          "metadata": {},
          "execution_count": 24
        }
      ]
    },
    {
      "cell_type": "markdown",
      "source": [
        "**Conditional Statements**\n"
      ],
      "metadata": {
        "id": "myO1H_wmQ4fo"
      }
    },
    {
      "cell_type": "code",
      "source": [
        "# if statement\n",
        "\n",
        "x = 50\n",
        "\n",
        "if x>10:\n",
        "  print(\"Success!\")\n",
        "  print(\"x is greater than 10\")\n",
        "  print(\"if block ends\")\n",
        "\n",
        "# if-elif statement\n",
        "\n",
        "if x==10:\n",
        "  print(\"equal to 10\")\n",
        "elif x==50:\n",
        "  print(\"equal to 50\")\n",
        "\n",
        "\n",
        "# if-elif-else\n",
        "\n",
        "if x==10:\n",
        "  print(\"equal to 10\")\n",
        "elif x!=50:\n",
        "  print(\"equal to 50\")\n",
        "elif x==100:\n",
        "  print(\"equal to 100\")\n",
        "else:\n",
        "  print(\"else\")\n",
        "\n",
        "# Quick Exercise\n",
        "\n",
        "name = input(\"Enter your name: \")\n",
        "\n",
        "if name==\"Taha\":\n",
        "  print(\"Hello Taha\")\n",
        "elif name==\"xyz\":\n",
        "  print(\"Hello xyz\")\n",
        "else:\n",
        "  print(\"Hello stranger\")\n"
      ],
      "metadata": {
        "colab": {
          "base_uri": "https://localhost:8080/"
        },
        "id": "73WAqVF1Q8FE",
        "outputId": "b8d67aef-fcd8-4d80-b1e8-413059a0e59d"
      },
      "execution_count": 67,
      "outputs": [
        {
          "output_type": "stream",
          "name": "stdout",
          "text": [
            "Success!\n",
            "x is greater than 10\n",
            "if block ends\n",
            "equal to 50\n",
            "else\n",
            "Enter your name: Taha\n",
            "Hello Taha\n"
          ]
        }
      ]
    },
    {
      "cell_type": "code",
      "source": [
        "# Nested Conditional Statements\n",
        "\n",
        "if x==15:\n",
        "  print(\"x is 15.\")\n",
        "  if x==40:\n",
        "    print(\"x is 40\")\n",
        "\n",
        "\n",
        "a = 1\n",
        "b = 0\n",
        "\n",
        "if a > 0:\n",
        "  print(\"a is greater than 0.\")\n",
        "  if b > 0:\n",
        "    print(\"a and b are greater than 0.\")\n",
        "  else:\n",
        "    print(\"a is greater than 0 but b is not greater than 0.\")\n",
        "\n"
      ],
      "metadata": {
        "colab": {
          "base_uri": "https://localhost:8080/"
        },
        "id": "VQZxZvAegik8",
        "outputId": "43be7661-e50f-4fb0-db39-d446b2852ece"
      },
      "execution_count": 69,
      "outputs": [
        {
          "output_type": "stream",
          "name": "stdout",
          "text": [
            "a is greater than 0.\n",
            "a is greater than 0 but b is not greater than 0.\n"
          ]
        }
      ]
    },
    {
      "cell_type": "markdown",
      "source": [
        "**Loops**\n"
      ],
      "metadata": {
        "id": "c1rB4mkoZxIe"
      }
    },
    {
      "cell_type": "code",
      "source": [
        "# While Loop\n",
        "\n",
        "i = 0\n",
        "\n",
        "while (i<5):\n",
        "  print(\"Success!\")\n",
        "  i += 1     # i = i + 1\n",
        "\n",
        "print(\"This is out of while loop.\")\n",
        "\n",
        "# For Loop\n",
        "\n",
        "for x in range(1, 5):     # range()\n",
        " print(x)\n",
        "\n",
        "\n",
        "fruits = [\"apple\", \"banana\", \"cherry\"]\n",
        "\n",
        "for fruit in fruits:\n",
        "  print(fruit)\n",
        "\n",
        "for character in \"apple\":\n",
        "  print(character)\n",
        "\n",
        "# Nested Loops\n",
        "\n",
        "for a in range(1, 5):\n",
        "  for b in range(1, 5):\n",
        "    print(a, b)\n",
        "\n",
        "\n",
        "print(\"Nested Loop end.\")\n"
      ],
      "metadata": {
        "colab": {
          "base_uri": "https://localhost:8080/"
        },
        "id": "tx_TIMLOZ0Dx",
        "outputId": "774dd0d8-7edb-4315-9f51-3d4ed9d6ee2a"
      },
      "execution_count": 70,
      "outputs": [
        {
          "output_type": "stream",
          "name": "stdout",
          "text": [
            "Success!\n",
            "Success!\n",
            "Success!\n",
            "Success!\n",
            "Success!\n",
            "This is out of while loop.\n",
            "1\n",
            "2\n",
            "3\n",
            "4\n",
            "apple\n",
            "banana\n",
            "cherry\n",
            "a\n",
            "p\n",
            "p\n",
            "l\n",
            "e\n",
            "1 1\n",
            "1 2\n",
            "1 3\n",
            "1 4\n",
            "2 1\n",
            "2 2\n",
            "2 3\n",
            "2 4\n",
            "3 1\n",
            "3 2\n",
            "3 3\n",
            "3 4\n",
            "4 1\n",
            "4 2\n",
            "4 3\n",
            "4 4\n",
            "Nested Loop end.\n"
          ]
        }
      ]
    }
  ]
}